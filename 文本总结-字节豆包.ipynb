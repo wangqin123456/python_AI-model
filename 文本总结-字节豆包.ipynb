{
 "cells": [
  {
   "cell_type": "code",
   "execution_count": 1,
   "id": "0c375bb4-0421-4f2a-bc83-ce58ec2197e2",
   "metadata": {},
   "outputs": [
    {
     "name": "stderr",
     "output_type": "stream",
     "text": [
      "/opt/anaconda3/lib/python3.11/site-packages/pydantic/_internal/_fields.py:149: UserWarning: Field \"model_usage\" has conflict with protected namespace \"model_\".\n",
      "\n",
      "You may be able to resolve this warning by setting `model_config['protected_namespaces'] = ()`.\n",
      "  warnings.warn(\n"
     ]
    }
   ],
   "source": [
    "from volcenginesdkarkruntime import Ark\n",
    "client = Ark()"
   ]
  },
  {
   "cell_type": "code",
   "execution_count": 2,
   "id": "34c803fa-84ec-418b-a244-cf79046f9436",
   "metadata": {},
   "outputs": [],
   "source": [
    "def get_ark_response(client,prompt,model=\"ep-20240805182732-68gxn\"):\n",
    "    response = client.chat.completions.create(\n",
    "        model=model,\n",
    "        messages = [\n",
    "            {\"role\": \"user\", \"content\": prompt},\n",
    "        ],\n",
    "    )\n",
    "    return response.choices[0].message.content"
   ]
  },
  {
   "cell_type": "code",
   "execution_count": 3,
   "id": "ae120d2e-eaff-4c96-b224-2092c6c4f26a",
   "metadata": {},
   "outputs": [],
   "source": [
    "product_review = \"\"\"\n",
    "我上个月买的这个多功能蓝牙耳机。它的连接速度还挺快，而且兼容性强，无论连接手机还是笔记本电脑，基本上都能快速配对上。\n",
    "音质方面，中高音清晰，低音效果震撼，当然这个价格来说一分钱一分货吧，毕竟也不便宜。\n",
    "耳机的电池续航能力不错，单次充满电可以连续使用超过8小时。\n",
    "不过这个耳机也有一些我不太满意的地方。首先是在长时间使用后，耳廓有轻微的压迫感，这可能是因为耳套的材料较硬。总之我感觉戴了超过4小时后耳朵会有点酸痛，需要摘下休息下。\n",
    "而且耳机的防水性能不是特别理想，在剧烈运动时的汗水防护上有待加强。\n",
    "最后是耳机盒子的开合机制感觉不够紧致，有时候会不小心打开。\n",
    "\"\"\""
   ]
  },
  {
   "cell_type": "code",
   "execution_count": 4,
   "id": "7b2cddfb-0a83-46d5-ac0d-90c3f93ab602",
   "metadata": {},
   "outputs": [],
   "source": [
    "product_review_prompt = f\"\"\"\n",
    "你的任务是为用户对产品的评价生成简要总结。\n",
    "请把总结主要分为两个方面，产品的优点，以及产品的缺点，并以Markdown列表形式展示。\n",
    "用户的评价内容会以三个#符号进行包围。\n",
    "\n",
    "###\n",
    "{product_review}\n",
    "###\n",
    "\"\"\""
   ]
  },
  {
   "cell_type": "code",
   "execution_count": 5,
   "id": "9d9a1a27-b8e5-4803-8833-b1730663a8ed",
   "metadata": {},
   "outputs": [
    {
     "data": {
      "text/plain": [
       "'- 优点：\\n    - 连接速度快，兼容性强。\\n    - 音质中高音清晰，低音效果震撼。\\n    - 电池续航能力不错，单次充满电可连续使用超 8 小时。\\n- 缺点：\\n    - 长时间使用耳廓有轻微压迫感，耳套材料硬，戴久耳朵酸痛。\\n    - 防水性能不理想，剧烈运动汗水防护有待加强。\\n    - 耳机盒子开合机制不够紧致，易不小心打开。'"
      ]
     },
     "execution_count": 5,
     "metadata": {},
     "output_type": "execute_result"
    }
   ],
   "source": [
    "response = get_ark_response(client,product_review_prompt)\n",
    "response"
   ]
  },
  {
   "cell_type": "code",
   "execution_count": 6,
   "id": "c1f4eafd-b36a-4817-9a6c-27b8bb1a2f11",
   "metadata": {},
   "outputs": [
    {
     "name": "stdout",
     "output_type": "stream",
     "text": [
      "- 优点：\n",
      "    - 连接速度快，兼容性强。\n",
      "    - 音质中高音清晰，低音效果震撼。\n",
      "    - 电池续航能力不错，单次充满电可连续使用超 8 小时。\n",
      "- 缺点：\n",
      "    - 长时间使用耳廓有轻微压迫感，耳套材料硬，戴久耳朵酸痛。\n",
      "    - 防水性能不理想，剧烈运动汗水防护有待加强。\n",
      "    - 耳机盒子开合机制不够紧致，易不小心打开。\n"
     ]
    }
   ],
   "source": [
    "print(response)"
   ]
  },
  {
   "cell_type": "code",
   "execution_count": null,
   "id": "a86a9e96-9781-4df4-8402-06671aff97d6",
   "metadata": {},
   "outputs": [],
   "source": []
  }
 ],
 "metadata": {
  "kernelspec": {
   "display_name": "Python 3 (ipykernel)",
   "language": "python",
   "name": "python3"
  },
  "language_info": {
   "codemirror_mode": {
    "name": "ipython",
    "version": 3
   },
   "file_extension": ".py",
   "mimetype": "text/x-python",
   "name": "python",
   "nbconvert_exporter": "python",
   "pygments_lexer": "ipython3",
   "version": "3.11.7"
  }
 },
 "nbformat": 4,
 "nbformat_minor": 5
}
