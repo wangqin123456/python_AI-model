{
 "cells": [
  {
   "cell_type": "code",
   "execution_count": 1,
   "id": "72c4565b-ee75-49f9-9e22-c03fe0b6d27a",
   "metadata": {},
   "outputs": [
    {
     "name": "stderr",
     "output_type": "stream",
     "text": [
      "/opt/anaconda3/lib/python3.11/site-packages/pydantic/_internal/_fields.py:149: UserWarning: Field \"model_usage\" has conflict with protected namespace \"model_\".\n",
      "\n",
      "You may be able to resolve this warning by setting `model_config['protected_namespaces'] = ()`.\n",
      "  warnings.warn(\n"
     ]
    }
   ],
   "source": [
    "from volcenginesdkarkruntime import Ark"
   ]
  },
  {
   "cell_type": "code",
   "execution_count": 2,
   "id": "c92358c8-75bd-4b93-8b92-75898b3693e9",
   "metadata": {},
   "outputs": [],
   "source": [
    "client = Ark()"
   ]
  },
  {
   "cell_type": "code",
   "execution_count": 3,
   "id": "f79e9fcd-7dc9-4fc5-9f55-66ac29c783c1",
   "metadata": {},
   "outputs": [],
   "source": [
    "def get_ark_response(client,prompt,model=\"ep-20240805182732-68gxn\"):\n",
    "    response = client.chat.completions.create(\n",
    "        model=model,\n",
    "        messages = [\n",
    "            {\"role\": \"user\", \"content\": prompt},\n",
    "        ],\n",
    "    )\n",
    "    return response.choices[0].message.content"
   ]
  },
  {
   "cell_type": "code",
   "execution_count": 4,
   "id": "334b1776-b799-482e-a700-9976ae982873",
   "metadata": {},
   "outputs": [],
   "source": [
    "q1 = \"我刚买的XYZ智能手表无法同步我的日历，我应该怎么办？\"\n",
    "q2 = \"XYZ手表的电池可以持续多久？\"\n",
    "q3 = \"XYZ品牌的手表和ABC品牌的手表相比，有什么特别的功能吗？\"\n",
    "q4 = \"安装XYZ智能手表的软件更新后，手表变得很慢，这是啥原因？\"\n",
    "q5 = \"XYZ智能手表防水不？我可以用它来记录我的游泳数据吗？\"\n",
    "q6 = \"我想知道XYZ手表的屏幕是什么材质，容不容易刮花？\"\n",
    "q7 = \"请问XYZ手表标准版和豪华版的售价分别是多少？还有没有进行中的促销活动？\"\n",
    "q_list = [q1, q2, q3, q4, q5, q6, q7]"
   ]
  },
  {
   "cell_type": "code",
   "execution_count": 5,
   "id": "28ff843b-69b3-4a82-bc4f-b289bc45da97",
   "metadata": {},
   "outputs": [],
   "source": [
    "category_list = [\"产品规格\", \"使用咨询\", \"功能比较\", \"用户反馈\", \"价格查询\", \"故障问题\", \"其它\"]"
   ]
  },
  {
   "cell_type": "code",
   "execution_count": 6,
   "id": "fa5892b4-092c-4144-9e96-710f32b941ea",
   "metadata": {},
   "outputs": [],
   "source": [
    "classify_prompt_template = \"\"\"\n",
    "你的任务是为用户对产品的疑问进行分类。\n",
    "请仔细阅读用户的问题内容，给出所属类别。类别应该是这些里面的其中一个：{categories}。\n",
    "直接输出所属类别，不要有任何额外的描述或补充内容。\n",
    "用户的问题内容会以三个#符号进行包围。\n",
    "\n",
    "###\n",
    "{question}\n",
    "###\n",
    "\"\"\""
   ]
  },
  {
   "cell_type": "code",
   "execution_count": 7,
   "id": "2c94f03a-cd2e-4cd3-96dd-26908693440f",
   "metadata": {},
   "outputs": [
    {
     "name": "stdout",
     "output_type": "stream",
     "text": [
      "故障问题\n",
      "产品规格\n",
      "功能比较\n",
      "故障问题\n",
      "产品规格\n",
      "产品规格\n",
      "价格查询\n"
     ]
    }
   ],
   "source": [
    "for q in q_list:\n",
    "    formatted_prompt = classify_prompt_template.format(categories=\"，\".join(category_list), question=q)\n",
    "    response = get_ark_response(client, formatted_prompt)\n",
    "    print(response)"
   ]
  }
 ],
 "metadata": {
  "kernelspec": {
   "display_name": "Python 3 (ipykernel)",
   "language": "python",
   "name": "python3"
  },
  "language_info": {
   "codemirror_mode": {
    "name": "ipython",
    "version": 3
   },
   "file_extension": ".py",
   "mimetype": "text/x-python",
   "name": "python",
   "nbconvert_exporter": "python",
   "pygments_lexer": "ipython3",
   "version": "3.11.7"
  }
 },
 "nbformat": 4,
 "nbformat_minor": 5
}
