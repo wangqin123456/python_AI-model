{
 "cells": [
  {
   "cell_type": "code",
   "execution_count": 1,
   "id": "2b708b7d-2705-48d6-9d85-e24bc5363b17",
   "metadata": {},
   "outputs": [
    {
     "name": "stderr",
     "output_type": "stream",
     "text": [
      "/opt/anaconda3/lib/python3.11/site-packages/pydantic/_internal/_fields.py:149: UserWarning: Field \"model_usage\" has conflict with protected namespace \"model_\".\n",
      "\n",
      "You may be able to resolve this warning by setting `model_config['protected_namespaces'] = ()`.\n",
      "  warnings.warn(\n"
     ]
    }
   ],
   "source": [
    "from volcenginesdkarkruntime import Ark\n",
    "client = Ark()"
   ]
  },
  {
   "cell_type": "code",
   "execution_count": 2,
   "id": "d8894d2c-56c9-46f7-8667-c74c838db9d5",
   "metadata": {},
   "outputs": [],
   "source": [
    "def get_ark_response(client,prompt,model=\"ep-20240805182732-68gxn\"):\n",
    "    response = client.chat.completions.create(\n",
    "        model=model,\n",
    "        messages = [\n",
    "            {\"role\": \"user\", \"content\": prompt},\n",
    "        ],\n",
    "    )\n",
    "    return response.choices[0].message.content"
   ]
  },
  {
   "cell_type": "code",
   "execution_count": 3,
   "id": "79b6ed9f-bcb4-4ff0-a1f2-6b5b1460c1f3",
   "metadata": {},
   "outputs": [],
   "source": [
    "translate_prompt = \"\"\"\n",
    "请你充当一家外贸公司的翻译，你的任务是对来自各国家用户的消息进行翻译。\n",
    "我会给你一段消息文本，请你首先判断消息是什么语言，比如法语。然后把消息翻译成中文。\n",
    "翻译时请尽可能保留文本原本的语气。输出内容不要有任何额外的解释或说明。\n",
    "\n",
    "输出格式为:\n",
    "```\n",
    "============\n",
    "原始消息（<文本的语言>）：\n",
    "<原始消息>\n",
    "------------\n",
    "翻译消息：\n",
    "<翻译后的文本内容>\n",
    "============\n",
    "```\n",
    "\n",
    "来自用户的消息内容会以三个#符号进行包围。\n",
    "###\n",
    "{message}\n",
    "###\n",
    "\"\"\""
   ]
  },
  {
   "cell_type": "code",
   "execution_count": 4,
   "id": "7ff05b8d-3ca5-44c4-af2f-1c6490758005",
   "metadata": {},
   "outputs": [
    {
     "name": "stdin",
     "output_type": "stream",
     "text": [
      " hello\n"
     ]
    },
    {
     "name": "stdout",
     "output_type": "stream",
     "text": [
      "```\n",
      "============\n",
      "原始消息（英语）：\n",
      "hello\n",
      "------------\n",
      "翻译消息：\n",
      "你好\n",
      "============\n",
      "```\n"
     ]
    }
   ],
   "source": [
    "message = input()\n",
    "print(get_ark_response(client, translate_prompt.format(message=message)))"
   ]
  }
 ],
 "metadata": {
  "kernelspec": {
   "display_name": "Python 3 (ipykernel)",
   "language": "python",
   "name": "python3"
  },
  "language_info": {
   "codemirror_mode": {
    "name": "ipython",
    "version": 3
   },
   "file_extension": ".py",
   "mimetype": "text/x-python",
   "name": "python",
   "nbconvert_exporter": "python",
   "pygments_lexer": "ipython3",
   "version": "3.11.7"
  }
 },
 "nbformat": 4,
 "nbformat_minor": 5
}
