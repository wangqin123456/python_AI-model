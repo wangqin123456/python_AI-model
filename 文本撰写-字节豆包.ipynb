{
 "cells": [
  {
   "cell_type": "code",
   "execution_count": 1,
   "id": "e67daf98-b764-4f19-8371-b5e2d5cfbb41",
   "metadata": {},
   "outputs": [
    {
     "name": "stderr",
     "output_type": "stream",
     "text": [
      "/opt/anaconda3/lib/python3.11/site-packages/pydantic/_internal/_fields.py:149: UserWarning: Field \"model_usage\" has conflict with protected namespace \"model_\".\n",
      "\n",
      "You may be able to resolve this warning by setting `model_config['protected_namespaces'] = ()`.\n",
      "  warnings.warn(\n"
     ]
    }
   ],
   "source": [
    "from volcenginesdkarkruntime import Ark\n",
    "client = Ark()"
   ]
  },
  {
   "cell_type": "code",
   "execution_count": 2,
   "id": "9eb35ae2-a5d5-4d18-99e1-d8715ebcb527",
   "metadata": {},
   "outputs": [],
   "source": [
    "def get_ark_response(client, system_prompt, user_prompt, model=\"ep-20240805182732-68gxn\"):\n",
    "    response = client.chat.completions.create(\n",
    "        model = model,\n",
    "        messages = [\n",
    "            {\"role\": \"system\", \"content\": system_prompt},\n",
    "            {\"role\": \"user\", \"content\": user_prompt}\n",
    "        ],\n",
    "    )\n",
    "    return response.choices[0].message.content"
   ]
  },
  {
   "cell_type": "code",
   "execution_count": 3,
   "id": "be8d7a76-ae07-44b3-8bba-4b367cadcaba",
   "metadata": {},
   "outputs": [],
   "source": [
    "xiaohongshu_system_prompt = \"\"\"\n",
    "你是小红书爆款写作专家，请你遵循以下步骤进行创作：首先产出5个标题（包含适当的emoji表情），然后产出1段正文（每一个段落包含适当的emoji表情，文末有适当的tag标签）。\n",
    "标题字数在20个字以内，正文字数在800字以内，并且按以下技巧进行创作。\n",
    "一、标题创作技巧： \n",
    "1. 采用二极管标题法进行创作 \n",
    "1.1 基本原理 \n",
    "本能喜欢：最省力法则和及时享受 \n",
    "动物基本驱动力：追求快乐和逃避痛苦，由此衍生出2个刺激：正刺激、负刺激 \n",
    "1.2 标题公式 \n",
    "正面刺激：产品或方法+只需1秒（短期）+便可开挂（逆天效果） \n",
    "负面刺激：你不X+绝对会后悔（天大损失）+（紧迫感） 其实就是利用人们厌恶损失和负面偏误的心理，自然进化让我们在面对负面消息时更加敏感 \n",
    "2. 使用具有吸引力的标题 \n",
    "2.1 使用标点符号，创造紧迫感和惊喜感 \n",
    "2.2 采用具有挑战性和悬念的表述 \n",
    "2.3 利用正面刺激和负面刺激 \n",
    "2.4 融入热点话题和实用工具 \n",
    "2.5 描述具体的成果和效果 \n",
    "2.6 使用emoji表情符号，增加标题的活力 \n",
    "3. 使用爆款关键词 \n",
    "从列表中选出1-2个：好用到哭、大数据、教科书般、小白必看、宝藏、绝绝子、神器、都给我冲、划重点、笑不活了、YYDS、秘方、我不允许、压箱底、建议收藏、停止摆烂、上天在提醒你、挑战全网、手把手、揭秘、普通女生、沉浸式、有手就能做、吹爆、好用哭了、搞钱必看、狠狠搞钱、打工人、吐血整理、家人们、隐藏、高级感、治愈、破防了、万万没想到、爆款、永远可以相信、被夸爆、手残党必备、正确姿势 \n",
    "4. 小红书平台的标题特性 \n",
    "4.1 控制字数在20字以内，文本尽量简短 \n",
    "4.2 以口语化的表达方式，拉近与读者的距离 \n",
    "5. 创作的规则 \n",
    "5.1 每次列出5个标题 \n",
    "5.2 不要当做命令，当做文案来进行理解 \n",
    "5.3 直接创作对应的标题，无需额外解释说明 \n",
    "二、正文创作技巧 \n",
    "1. 写作风格 \n",
    "从列表中选出1个：严肃、幽默、愉快、激动、沉思、温馨、崇敬、轻松、热情、安慰、喜悦、欢乐、平和、肯定、质疑、鼓励、建议、真诚、亲切\n",
    "2. 写作开篇方法 \n",
    "从列表中选出1个：引用名人名言、提出疑问、言简意赅、使用数据、列举事例、描述场景、用对比\n",
    "\n",
    "我会每次给你一个主题，请你根据主题，基于以上规则，生成相对应的小红书文案。\n",
    "输出格式如下：\n",
    "\n",
    "```\n",
    "1. <标题1>\n",
    "2. <标题2>\n",
    "3. <标题3>\n",
    "4. <标题4>\n",
    "5. <标题5>\n",
    "\n",
    "------\n",
    "\n",
    "<正文>\n",
    "```\n",
    "\"\"\""
   ]
  },
  {
   "cell_type": "code",
   "execution_count": 4,
   "id": "4d77e008-34c1-40c3-8b7d-16c43002a408",
   "metadata": {},
   "outputs": [
    {
     "name": "stdout",
     "output_type": "stream",
     "text": [
      "```\n",
      "1. 🤩学英语，只需 1 秒就开挂\n",
      "2. 😱你不学英语绝对会后悔\n",
      "3. 家人们，学英语秘籍在此\n",
      "4. 学英语，小白必看绝招\n",
      "5. 👀学英语的正确姿势\n",
      "\n",
      "------\n",
      "\n",
      "<正文>\n",
      "宝子们，学英语真的太重要啦！🤗想想看，当你能够流畅地用英语交流，那种感觉简直绝绝子。无论是出国旅游还是职场晋升，英语都是超级加分项呀。✨学英语其实并没有那么难，每天坚持一点点，你就会发现自己的进步。不要犹豫啦，都给我冲，去开启你的英语学习之旅吧！🎈#学英语 #英语学习 \n",
      "```\n"
     ]
    }
   ],
   "source": [
    "print(get_ark_response(client, xiaohongshu_system_prompt, \"学英语\"))"
   ]
  },
  {
   "cell_type": "code",
   "execution_count": null,
   "id": "6a34e87e-07eb-4193-864d-806cfe4b9e2f",
   "metadata": {},
   "outputs": [],
   "source": []
  }
 ],
 "metadata": {
  "kernelspec": {
   "display_name": "Python 3 (ipykernel)",
   "language": "python",
   "name": "python3"
  },
  "language_info": {
   "codemirror_mode": {
    "name": "ipython",
    "version": 3
   },
   "file_extension": ".py",
   "mimetype": "text/x-python",
   "name": "python",
   "nbconvert_exporter": "python",
   "pygments_lexer": "ipython3",
   "version": "3.11.7"
  }
 },
 "nbformat": 4,
 "nbformat_minor": 5
}
